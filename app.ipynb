{
 "cells": [
  {
   "cell_type": "code",
   "execution_count": 1,
   "id": "d843b2aa-9f23-4255-b0c0-7824100f469b",
   "metadata": {},
   "outputs": [],
   "source": [
    "from flask import Flask\n",
    "from flask import render_template\n",
    "import joblib \n",
    "from flask import request\n",
    "import numpy as np "
   ]
  },
  {
   "cell_type": "code",
   "execution_count": 2,
   "id": "aa637602-7309-4603-be65-3432091af3ac",
   "metadata": {},
   "outputs": [],
   "source": [
    "app = Flask(__name__)\n",
    "\n",
    "# Load the trained model\n",
    "model = joblib.load('random_forest_model.pkl')\n",
    "\n",
    "# Define the top features (used during training)\n",
    "top_features = ['age', 'trestbps', 'chol', 'thalach', 'oldpeak', 'ca', 'thal']\n",
    "\n",
    "@app.route('/')\n",
    "def home():\n",
    "    return render_template('index.html')\n",
    "\n",
    "@app.route('/predict', methods=['POST'])\n",
    "def predict():\n",
    "    if request.method == 'POST':\n",
    "        # Get input data from form\n",
    "        input_data = [float(request.form.get(feature)) for feature in top_features]\n",
    "        input_array = np.array([input_data])\n",
    "\n",
    "        # Make prediction\n",
    "        prediction = model.predict(input_array)[0]\n",
    "\n",
    "        # Map numeric prediction to risk level\n",
    "        risk_labels = {\n",
    "            0: \"No Heart Disease\",\n",
    "            1: \"Mild Heart Disease\",\n",
    "            2: \"Moderate Heart Disease\",\n",
    "            3: \"Severe Heart Disease\",\n",
    "            4: \"Very Severe Heart Disease\"\n",
    "        }\n",
    "        result = risk_labels.get(prediction, \"Unknown\")\n",
    "\n",
    "        return render_template('results.html', prediction=result)"
   ]
  },
  {
   "cell_type": "code",
   "execution_count": null,
   "id": "99fd5f87-f91e-4372-896a-e414b2af4152",
   "metadata": {},
   "outputs": [
    {
     "name": "stdout",
     "output_type": "stream",
     "text": [
      " * Serving Flask app '__main__'\n",
      " * Debug mode: off\n"
     ]
    },
    {
     "name": "stderr",
     "output_type": "stream",
     "text": [
      "WARNING: This is a development server. Do not use it in a production deployment. Use a production WSGI server instead.\n",
      " * Running on http://127.0.0.1:5000\n",
      "Press CTRL+C to quit\n",
      "127.0.0.1 - - [19/Sep/2025 00:08:27] \"GET / HTTP/1.1\" 200 -\n"
     ]
    }
   ],
   "source": [
    "if __name__ == '__main__':\n",
    "    app.run()"
   ]
  }
 ],
 "metadata": {
  "kernelspec": {
   "display_name": "Python 3 (ipykernel)",
   "language": "python",
   "name": "python3"
  },
  "language_info": {
   "codemirror_mode": {
    "name": "ipython",
    "version": 3
   },
   "file_extension": ".py",
   "mimetype": "text/x-python",
   "name": "python",
   "nbconvert_exporter": "python",
   "pygments_lexer": "ipython3",
   "version": "3.10.18"
  }
 },
 "nbformat": 4,
 "nbformat_minor": 5
}
